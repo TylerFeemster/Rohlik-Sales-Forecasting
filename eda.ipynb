{
 "cells": [
  {
   "cell_type": "code",
   "execution_count": 14,
   "metadata": {},
   "outputs": [],
   "source": [
    "import pandas as pd\n",
    "import numpy as np"
   ]
  },
  {
   "cell_type": "code",
   "execution_count": 15,
   "metadata": {},
   "outputs": [],
   "source": [
    "data = pd.read_csv('./data/sales_train.csv')"
   ]
  },
  {
   "cell_type": "code",
   "execution_count": 16,
   "metadata": {},
   "outputs": [
    {
     "data": {
      "text/plain": [
       "unique_id            int64\n",
       "date                object\n",
       "warehouse           object\n",
       "total_orders       float64\n",
       "sales              float64\n",
       "sell_price_main    float64\n",
       "availability       float64\n",
       "type_0_discount    float64\n",
       "type_1_discount    float64\n",
       "type_2_discount    float64\n",
       "type_3_discount    float64\n",
       "type_4_discount    float64\n",
       "type_5_discount    float64\n",
       "type_6_discount    float64\n",
       "dtype: object"
      ]
     },
     "execution_count": 16,
     "metadata": {},
     "output_type": "execute_result"
    }
   ],
   "source": [
    "data.dtypes"
   ]
  },
  {
   "cell_type": "code",
   "execution_count": 17,
   "metadata": {},
   "outputs": [],
   "source": [
    "data['date'] = pd.to_datetime(data['date'])\n",
    "data['unique_id'] = data['unique_id'].astype('category')\n",
    "data['warehouse'] = data['warehouse'].astype('category')\n",
    "data = data.drop('availability', axis=1)"
   ]
  },
  {
   "cell_type": "code",
   "execution_count": 18,
   "metadata": {},
   "outputs": [
    {
     "data": {
      "text/plain": [
       "warehouse\n",
       "Prague_1       780566\n",
       "Prague_3       779655\n",
       "Prague_2       770709\n",
       "Brno_1         643637\n",
       "Budapest_1     574582\n",
       "Munich_1       259333\n",
       "Frankfurt_1    198937\n",
       "Name: count, dtype: int64"
      ]
     },
     "execution_count": 18,
     "metadata": {},
     "output_type": "execute_result"
    }
   ],
   "source": [
    "data['warehouse'].value_counts()"
   ]
  },
  {
   "cell_type": "code",
   "execution_count": 20,
   "metadata": {},
   "outputs": [
    {
     "data": {
      "text/plain": [
       "unique_id           0\n",
       "date                0\n",
       "warehouse           0\n",
       "total_orders       52\n",
       "sales              52\n",
       "sell_price_main     0\n",
       "type_0_discount     0\n",
       "type_1_discount     0\n",
       "type_2_discount     0\n",
       "type_3_discount     0\n",
       "type_4_discount     0\n",
       "type_5_discount     0\n",
       "type_6_discount     0\n",
       "dtype: int64"
      ]
     },
     "execution_count": 20,
     "metadata": {},
     "output_type": "execute_result"
    }
   ],
   "source": [
    "data.isna().sum()"
   ]
  },
  {
   "cell_type": "code",
   "execution_count": 21,
   "metadata": {},
   "outputs": [],
   "source": [
    "data = data.dropna()"
   ]
  },
  {
   "cell_type": "code",
   "execution_count": 22,
   "metadata": {},
   "outputs": [
    {
     "data": {
      "text/html": [
       "<div>\n",
       "<style scoped>\n",
       "    .dataframe tbody tr th:only-of-type {\n",
       "        vertical-align: middle;\n",
       "    }\n",
       "\n",
       "    .dataframe tbody tr th {\n",
       "        vertical-align: top;\n",
       "    }\n",
       "\n",
       "    .dataframe thead th {\n",
       "        text-align: right;\n",
       "    }\n",
       "</style>\n",
       "<table border=\"1\" class=\"dataframe\">\n",
       "  <thead>\n",
       "    <tr style=\"text-align: right;\">\n",
       "      <th></th>\n",
       "      <th>date</th>\n",
       "      <th>total_orders</th>\n",
       "      <th>sales</th>\n",
       "      <th>sell_price_main</th>\n",
       "      <th>type_0_discount</th>\n",
       "      <th>type_1_discount</th>\n",
       "      <th>type_2_discount</th>\n",
       "      <th>type_3_discount</th>\n",
       "      <th>type_4_discount</th>\n",
       "      <th>type_5_discount</th>\n",
       "      <th>type_6_discount</th>\n",
       "    </tr>\n",
       "  </thead>\n",
       "  <tbody>\n",
       "    <tr>\n",
       "      <th>count</th>\n",
       "      <td>4007367</td>\n",
       "      <td>4.007367e+06</td>\n",
       "      <td>4.007367e+06</td>\n",
       "      <td>4.007367e+06</td>\n",
       "      <td>4.007367e+06</td>\n",
       "      <td>4.007367e+06</td>\n",
       "      <td>4.007367e+06</td>\n",
       "      <td>4.007367e+06</td>\n",
       "      <td>4.007367e+06</td>\n",
       "      <td>4.007367e+06</td>\n",
       "      <td>4.007367e+06</td>\n",
       "    </tr>\n",
       "    <tr>\n",
       "      <th>mean</th>\n",
       "      <td>2022-09-17 11:52:27.934592</td>\n",
       "      <td>5.995722e+03</td>\n",
       "      <td>1.083808e+02</td>\n",
       "      <td>1.814222e+02</td>\n",
       "      <td>8.518080e-03</td>\n",
       "      <td>1.240915e-04</td>\n",
       "      <td>1.163208e-03</td>\n",
       "      <td>5.452890e-06</td>\n",
       "      <td>5.680252e-03</td>\n",
       "      <td>4.049758e-04</td>\n",
       "      <td>1.045494e-02</td>\n",
       "    </tr>\n",
       "    <tr>\n",
       "      <th>min</th>\n",
       "      <td>2020-08-01 00:00:00</td>\n",
       "      <td>4.580000e+02</td>\n",
       "      <td>0.000000e+00</td>\n",
       "      <td>2.000000e-02</td>\n",
       "      <td>-2.094930e+01</td>\n",
       "      <td>0.000000e+00</td>\n",
       "      <td>0.000000e+00</td>\n",
       "      <td>0.000000e+00</td>\n",
       "      <td>-4.712000e-02</td>\n",
       "      <td>0.000000e+00</td>\n",
       "      <td>-8.014900e-01</td>\n",
       "    </tr>\n",
       "    <tr>\n",
       "      <th>25%</th>\n",
       "      <td>2021-11-09 00:00:00</td>\n",
       "      <td>4.402000e+03</td>\n",
       "      <td>1.798000e+01</td>\n",
       "      <td>2.113000e+01</td>\n",
       "      <td>0.000000e+00</td>\n",
       "      <td>0.000000e+00</td>\n",
       "      <td>0.000000e+00</td>\n",
       "      <td>0.000000e+00</td>\n",
       "      <td>0.000000e+00</td>\n",
       "      <td>0.000000e+00</td>\n",
       "      <td>0.000000e+00</td>\n",
       "    </tr>\n",
       "    <tr>\n",
       "      <th>50%</th>\n",
       "      <td>2022-10-23 00:00:00</td>\n",
       "      <td>5.515000e+03</td>\n",
       "      <td>3.952000e+01</td>\n",
       "      <td>4.564000e+01</td>\n",
       "      <td>0.000000e+00</td>\n",
       "      <td>0.000000e+00</td>\n",
       "      <td>0.000000e+00</td>\n",
       "      <td>0.000000e+00</td>\n",
       "      <td>0.000000e+00</td>\n",
       "      <td>0.000000e+00</td>\n",
       "      <td>0.000000e+00</td>\n",
       "    </tr>\n",
       "    <tr>\n",
       "      <th>75%</th>\n",
       "      <td>2023-08-17 00:00:00</td>\n",
       "      <td>8.011000e+03</td>\n",
       "      <td>9.447000e+01</td>\n",
       "      <td>1.121300e+02</td>\n",
       "      <td>0.000000e+00</td>\n",
       "      <td>0.000000e+00</td>\n",
       "      <td>0.000000e+00</td>\n",
       "      <td>0.000000e+00</td>\n",
       "      <td>0.000000e+00</td>\n",
       "      <td>0.000000e+00</td>\n",
       "      <td>0.000000e+00</td>\n",
       "    </tr>\n",
       "    <tr>\n",
       "      <th>max</th>\n",
       "      <td>2024-06-02 00:00:00</td>\n",
       "      <td>1.847500e+04</td>\n",
       "      <td>2.631619e+04</td>\n",
       "      <td>2.168299e+04</td>\n",
       "      <td>9.916400e-01</td>\n",
       "      <td>5.000000e-01</td>\n",
       "      <td>7.637200e-01</td>\n",
       "      <td>2.506300e-01</td>\n",
       "      <td>4.529000e-01</td>\n",
       "      <td>6.691400e-01</td>\n",
       "      <td>9.000500e-01</td>\n",
       "    </tr>\n",
       "    <tr>\n",
       "      <th>std</th>\n",
       "      <td>NaN</td>\n",
       "      <td>2.479598e+03</td>\n",
       "      <td>3.603327e+02</td>\n",
       "      <td>4.611040e+02</td>\n",
       "      <td>5.146927e-02</td>\n",
       "      <td>5.142848e-03</td>\n",
       "      <td>1.879989e-02</td>\n",
       "      <td>8.922494e-04</td>\n",
       "      <td>2.892983e-02</td>\n",
       "      <td>9.199973e-03</td>\n",
       "      <td>5.545069e-02</td>\n",
       "    </tr>\n",
       "  </tbody>\n",
       "</table>\n",
       "</div>"
      ],
      "text/plain": [
       "                             date  total_orders         sales  \\\n",
       "count                     4007367  4.007367e+06  4.007367e+06   \n",
       "mean   2022-09-17 11:52:27.934592  5.995722e+03  1.083808e+02   \n",
       "min           2020-08-01 00:00:00  4.580000e+02  0.000000e+00   \n",
       "25%           2021-11-09 00:00:00  4.402000e+03  1.798000e+01   \n",
       "50%           2022-10-23 00:00:00  5.515000e+03  3.952000e+01   \n",
       "75%           2023-08-17 00:00:00  8.011000e+03  9.447000e+01   \n",
       "max           2024-06-02 00:00:00  1.847500e+04  2.631619e+04   \n",
       "std                           NaN  2.479598e+03  3.603327e+02   \n",
       "\n",
       "       sell_price_main  type_0_discount  type_1_discount  type_2_discount  \\\n",
       "count     4.007367e+06     4.007367e+06     4.007367e+06     4.007367e+06   \n",
       "mean      1.814222e+02     8.518080e-03     1.240915e-04     1.163208e-03   \n",
       "min       2.000000e-02    -2.094930e+01     0.000000e+00     0.000000e+00   \n",
       "25%       2.113000e+01     0.000000e+00     0.000000e+00     0.000000e+00   \n",
       "50%       4.564000e+01     0.000000e+00     0.000000e+00     0.000000e+00   \n",
       "75%       1.121300e+02     0.000000e+00     0.000000e+00     0.000000e+00   \n",
       "max       2.168299e+04     9.916400e-01     5.000000e-01     7.637200e-01   \n",
       "std       4.611040e+02     5.146927e-02     5.142848e-03     1.879989e-02   \n",
       "\n",
       "       type_3_discount  type_4_discount  type_5_discount  type_6_discount  \n",
       "count     4.007367e+06     4.007367e+06     4.007367e+06     4.007367e+06  \n",
       "mean      5.452890e-06     5.680252e-03     4.049758e-04     1.045494e-02  \n",
       "min       0.000000e+00    -4.712000e-02     0.000000e+00    -8.014900e-01  \n",
       "25%       0.000000e+00     0.000000e+00     0.000000e+00     0.000000e+00  \n",
       "50%       0.000000e+00     0.000000e+00     0.000000e+00     0.000000e+00  \n",
       "75%       0.000000e+00     0.000000e+00     0.000000e+00     0.000000e+00  \n",
       "max       2.506300e-01     4.529000e-01     6.691400e-01     9.000500e-01  \n",
       "std       8.922494e-04     2.892983e-02     9.199973e-03     5.545069e-02  "
      ]
     },
     "execution_count": 22,
     "metadata": {},
     "output_type": "execute_result"
    }
   ],
   "source": [
    "data.describe()"
   ]
  },
  {
   "cell_type": "code",
   "execution_count": 23,
   "metadata": {},
   "outputs": [],
   "source": [
    "discounts = [f'type_{i}_discount' for i in range(7)]\n",
    "for discount in discounts:\n",
    "    data.loc[data[discount] < 0, discount] = 0"
   ]
  },
  {
   "cell_type": "code",
   "execution_count": 24,
   "metadata": {},
   "outputs": [
    {
     "data": {
      "text/html": [
       "<div>\n",
       "<style scoped>\n",
       "    .dataframe tbody tr th:only-of-type {\n",
       "        vertical-align: middle;\n",
       "    }\n",
       "\n",
       "    .dataframe tbody tr th {\n",
       "        vertical-align: top;\n",
       "    }\n",
       "\n",
       "    .dataframe thead th {\n",
       "        text-align: right;\n",
       "    }\n",
       "</style>\n",
       "<table border=\"1\" class=\"dataframe\">\n",
       "  <thead>\n",
       "    <tr style=\"text-align: right;\">\n",
       "      <th></th>\n",
       "      <th>date</th>\n",
       "      <th>total_orders</th>\n",
       "      <th>sales</th>\n",
       "      <th>sell_price_main</th>\n",
       "      <th>type_0_discount</th>\n",
       "      <th>type_1_discount</th>\n",
       "      <th>type_2_discount</th>\n",
       "      <th>type_3_discount</th>\n",
       "      <th>type_4_discount</th>\n",
       "      <th>type_5_discount</th>\n",
       "      <th>type_6_discount</th>\n",
       "    </tr>\n",
       "  </thead>\n",
       "  <tbody>\n",
       "    <tr>\n",
       "      <th>count</th>\n",
       "      <td>4007367</td>\n",
       "      <td>4.007367e+06</td>\n",
       "      <td>4.007367e+06</td>\n",
       "      <td>4.007367e+06</td>\n",
       "      <td>4.007367e+06</td>\n",
       "      <td>4.007367e+06</td>\n",
       "      <td>4.007367e+06</td>\n",
       "      <td>4.007367e+06</td>\n",
       "      <td>4.007367e+06</td>\n",
       "      <td>4.007367e+06</td>\n",
       "      <td>4.007367e+06</td>\n",
       "    </tr>\n",
       "    <tr>\n",
       "      <th>mean</th>\n",
       "      <td>2022-09-17 11:52:27.934592</td>\n",
       "      <td>5.995722e+03</td>\n",
       "      <td>1.083808e+02</td>\n",
       "      <td>1.814222e+02</td>\n",
       "      <td>8.532168e-03</td>\n",
       "      <td>1.240915e-04</td>\n",
       "      <td>1.163208e-03</td>\n",
       "      <td>5.452890e-06</td>\n",
       "      <td>5.680263e-03</td>\n",
       "      <td>4.049758e-04</td>\n",
       "      <td>1.045540e-02</td>\n",
       "    </tr>\n",
       "    <tr>\n",
       "      <th>min</th>\n",
       "      <td>2020-08-01 00:00:00</td>\n",
       "      <td>4.580000e+02</td>\n",
       "      <td>0.000000e+00</td>\n",
       "      <td>2.000000e-02</td>\n",
       "      <td>0.000000e+00</td>\n",
       "      <td>0.000000e+00</td>\n",
       "      <td>0.000000e+00</td>\n",
       "      <td>0.000000e+00</td>\n",
       "      <td>0.000000e+00</td>\n",
       "      <td>0.000000e+00</td>\n",
       "      <td>0.000000e+00</td>\n",
       "    </tr>\n",
       "    <tr>\n",
       "      <th>25%</th>\n",
       "      <td>2021-11-09 00:00:00</td>\n",
       "      <td>4.402000e+03</td>\n",
       "      <td>1.798000e+01</td>\n",
       "      <td>2.113000e+01</td>\n",
       "      <td>0.000000e+00</td>\n",
       "      <td>0.000000e+00</td>\n",
       "      <td>0.000000e+00</td>\n",
       "      <td>0.000000e+00</td>\n",
       "      <td>0.000000e+00</td>\n",
       "      <td>0.000000e+00</td>\n",
       "      <td>0.000000e+00</td>\n",
       "    </tr>\n",
       "    <tr>\n",
       "      <th>50%</th>\n",
       "      <td>2022-10-23 00:00:00</td>\n",
       "      <td>5.515000e+03</td>\n",
       "      <td>3.952000e+01</td>\n",
       "      <td>4.564000e+01</td>\n",
       "      <td>0.000000e+00</td>\n",
       "      <td>0.000000e+00</td>\n",
       "      <td>0.000000e+00</td>\n",
       "      <td>0.000000e+00</td>\n",
       "      <td>0.000000e+00</td>\n",
       "      <td>0.000000e+00</td>\n",
       "      <td>0.000000e+00</td>\n",
       "    </tr>\n",
       "    <tr>\n",
       "      <th>75%</th>\n",
       "      <td>2023-08-17 00:00:00</td>\n",
       "      <td>8.011000e+03</td>\n",
       "      <td>9.447000e+01</td>\n",
       "      <td>1.121300e+02</td>\n",
       "      <td>0.000000e+00</td>\n",
       "      <td>0.000000e+00</td>\n",
       "      <td>0.000000e+00</td>\n",
       "      <td>0.000000e+00</td>\n",
       "      <td>0.000000e+00</td>\n",
       "      <td>0.000000e+00</td>\n",
       "      <td>0.000000e+00</td>\n",
       "    </tr>\n",
       "    <tr>\n",
       "      <th>max</th>\n",
       "      <td>2024-06-02 00:00:00</td>\n",
       "      <td>1.847500e+04</td>\n",
       "      <td>2.631619e+04</td>\n",
       "      <td>2.168299e+04</td>\n",
       "      <td>9.916400e-01</td>\n",
       "      <td>5.000000e-01</td>\n",
       "      <td>7.637200e-01</td>\n",
       "      <td>2.506300e-01</td>\n",
       "      <td>4.529000e-01</td>\n",
       "      <td>6.691400e-01</td>\n",
       "      <td>9.000500e-01</td>\n",
       "    </tr>\n",
       "    <tr>\n",
       "      <th>std</th>\n",
       "      <td>NaN</td>\n",
       "      <td>2.479598e+03</td>\n",
       "      <td>3.603327e+02</td>\n",
       "      <td>4.611040e+02</td>\n",
       "      <td>4.893685e-02</td>\n",
       "      <td>5.142848e-03</td>\n",
       "      <td>1.879989e-02</td>\n",
       "      <td>8.922494e-04</td>\n",
       "      <td>2.892982e-02</td>\n",
       "      <td>9.199973e-03</td>\n",
       "      <td>5.544819e-02</td>\n",
       "    </tr>\n",
       "  </tbody>\n",
       "</table>\n",
       "</div>"
      ],
      "text/plain": [
       "                             date  total_orders         sales  \\\n",
       "count                     4007367  4.007367e+06  4.007367e+06   \n",
       "mean   2022-09-17 11:52:27.934592  5.995722e+03  1.083808e+02   \n",
       "min           2020-08-01 00:00:00  4.580000e+02  0.000000e+00   \n",
       "25%           2021-11-09 00:00:00  4.402000e+03  1.798000e+01   \n",
       "50%           2022-10-23 00:00:00  5.515000e+03  3.952000e+01   \n",
       "75%           2023-08-17 00:00:00  8.011000e+03  9.447000e+01   \n",
       "max           2024-06-02 00:00:00  1.847500e+04  2.631619e+04   \n",
       "std                           NaN  2.479598e+03  3.603327e+02   \n",
       "\n",
       "       sell_price_main  type_0_discount  type_1_discount  type_2_discount  \\\n",
       "count     4.007367e+06     4.007367e+06     4.007367e+06     4.007367e+06   \n",
       "mean      1.814222e+02     8.532168e-03     1.240915e-04     1.163208e-03   \n",
       "min       2.000000e-02     0.000000e+00     0.000000e+00     0.000000e+00   \n",
       "25%       2.113000e+01     0.000000e+00     0.000000e+00     0.000000e+00   \n",
       "50%       4.564000e+01     0.000000e+00     0.000000e+00     0.000000e+00   \n",
       "75%       1.121300e+02     0.000000e+00     0.000000e+00     0.000000e+00   \n",
       "max       2.168299e+04     9.916400e-01     5.000000e-01     7.637200e-01   \n",
       "std       4.611040e+02     4.893685e-02     5.142848e-03     1.879989e-02   \n",
       "\n",
       "       type_3_discount  type_4_discount  type_5_discount  type_6_discount  \n",
       "count     4.007367e+06     4.007367e+06     4.007367e+06     4.007367e+06  \n",
       "mean      5.452890e-06     5.680263e-03     4.049758e-04     1.045540e-02  \n",
       "min       0.000000e+00     0.000000e+00     0.000000e+00     0.000000e+00  \n",
       "25%       0.000000e+00     0.000000e+00     0.000000e+00     0.000000e+00  \n",
       "50%       0.000000e+00     0.000000e+00     0.000000e+00     0.000000e+00  \n",
       "75%       0.000000e+00     0.000000e+00     0.000000e+00     0.000000e+00  \n",
       "max       2.506300e-01     4.529000e-01     6.691400e-01     9.000500e-01  \n",
       "std       8.922494e-04     2.892982e-02     9.199973e-03     5.544819e-02  "
      ]
     },
     "execution_count": 24,
     "metadata": {},
     "output_type": "execute_result"
    }
   ],
   "source": [
    "data.describe()"
   ]
  },
  {
   "cell_type": "code",
   "execution_count": 31,
   "metadata": {},
   "outputs": [
    {
     "data": {
      "text/plain": [
       "<Axes: title={'center': 'total sales'}, xlabel='date'>"
      ]
     },
     "execution_count": 31,
     "metadata": {},
     "output_type": "execute_result"
    },
    {
     "data": {
      "image/png": "[encoded data removed]",
      "text/plain": [
       "<Figure size 640x480 with 1 Axes>"
      ]
     },
     "metadata": {},
     "output_type": "display_data"
    }
   ],
   "source": [
    "total = data[['date', 'sales']].groupby('date').sum().reset_index()\n",
    "total.plot(x='date', y='sales', kind='line', title='total sales')"
   ]
  },
  {
   "cell_type": "code",
   "execution_count": 33,
   "metadata": {},
   "outputs": [
    {
     "data": {
      "text/plain": [
       "<Axes: title={'center': 'total price-weighted sales'}, xlabel='date'>"
      ]
     },
     "execution_count": 33,
     "metadata": {},
     "output_type": "execute_result"
    },
    {
     "data": {
      "image/png": "[encoded data removed]",
      "text/plain": [
       "<Figure size 640x480 with 1 Axes>"
      ]
     },
     "metadata": {},
     "output_type": "display_data"
    }
   ],
   "source": [
    "data['sales_and_price'] = data['sales'] * data['sell_price_main']\n",
    "total = data[['date', 'sales_and_price']].groupby('date').sum().reset_index()\n",
    "total.plot(x='date', y='sales_and_price', kind='line', title='total price-weighted sales')"
   ]
  },
  {
   "cell_type": "code",
   "execution_count": null,
   "metadata": {},
   "outputs": [],
   "source": []
  }
 ],
 "metadata": {
  "kernelspec": {
   "display_name": ".venv",
   "language": "python",
   "name": "python3"
  },
  "language_info": {
   "codemirror_mode": {
    "name": "ipython",
    "version": 3
   },
   "file_extension": ".py",
   "mimetype": "text/x-python",
   "name": "python",
   "nbconvert_exporter": "python",
   "pygments_lexer": "ipython3",
   "version": "3.11.0"
  }
 },
 "nbformat": 4,
 "nbformat_minor": 2
}
